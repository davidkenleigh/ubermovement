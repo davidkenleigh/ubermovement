{
 "cells": [
  {
   "cell_type": "markdown",
   "metadata": {},
   "source": [
    "Prep notebook"
   ]
  },
  {
   "cell_type": "code",
   "execution_count": 1,
   "metadata": {},
   "outputs": [],
   "source": [
    "import pandas as pd\n",
    "import numpy as np\n",
    "from matplotlib import pyplot as plt"
   ]
  },
  {
   "cell_type": "code",
   "execution_count": 2,
   "metadata": {},
   "outputs": [
    {
     "data": {
      "text/html": [
       "<div>\n",
       "<style scoped>\n",
       "    .dataframe tbody tr th:only-of-type {\n",
       "        vertical-align: middle;\n",
       "    }\n",
       "\n",
       "    .dataframe tbody tr th {\n",
       "        vertical-align: top;\n",
       "    }\n",
       "\n",
       "    .dataframe thead th {\n",
       "        text-align: right;\n",
       "    }\n",
       "</style>\n",
       "<table border=\"1\" class=\"dataframe\">\n",
       "  <thead>\n",
       "    <tr style=\"text-align: right;\">\n",
       "      <th></th>\n",
       "      <th>EventId</th>\n",
       "      <th>Occurrence Local Date Time</th>\n",
       "      <th>Reporting Agency</th>\n",
       "      <th>Cause</th>\n",
       "      <th>Subcause</th>\n",
       "      <th>Status</th>\n",
       "      <th>longitude</th>\n",
       "      <th>latitude</th>\n",
       "      <th>road_segment_id</th>\n",
       "    </tr>\n",
       "  </thead>\n",
       "  <tbody>\n",
       "    <tr>\n",
       "      <th>0</th>\n",
       "      <td>60558</td>\n",
       "      <td>2016-01-01 00:53:00</td>\n",
       "      <td>Cam</td>\n",
       "      <td>Stationary Vehicle</td>\n",
       "      <td>Vehicle On Shoulder</td>\n",
       "      <td>Closed</td>\n",
       "      <td>18.5408955032</td>\n",
       "      <td>-33.888275</td>\n",
       "      <td>S0B3CGQ</td>\n",
       "    </tr>\n",
       "    <tr>\n",
       "      <th>1</th>\n",
       "      <td>60559</td>\n",
       "      <td>2016-01-01 00:54:00</td>\n",
       "      <td>CAMERA</td>\n",
       "      <td>Accident</td>\n",
       "      <td>With A Fixed Object</td>\n",
       "      <td>Closed</td>\n",
       "      <td>18.9307563219</td>\n",
       "      <td>-34.140857</td>\n",
       "      <td>RYJYAPI</td>\n",
       "    </tr>\n",
       "    <tr>\n",
       "      <th>2</th>\n",
       "      <td>60560</td>\n",
       "      <td>2016-01-01 02:26:00</td>\n",
       "      <td>Law Enforcement</td>\n",
       "      <td>Accident</td>\n",
       "      <td>Multi Vehicle</td>\n",
       "      <td>Closed</td>\n",
       "      <td>18.5533575029</td>\n",
       "      <td>-33.959154</td>\n",
       "      <td>U3KP57C</td>\n",
       "    </tr>\n",
       "    <tr>\n",
       "      <th>3</th>\n",
       "      <td>60561</td>\n",
       "      <td>2016-01-01 02:56:00</td>\n",
       "      <td>CAMERA</td>\n",
       "      <td>Stationary Vehicle</td>\n",
       "      <td>Vehicle On Shoulder</td>\n",
       "      <td>Closed</td>\n",
       "      <td>18.6775561589</td>\n",
       "      <td>-33.895258</td>\n",
       "      <td>RY0TRQ8</td>\n",
       "    </tr>\n",
       "    <tr>\n",
       "      <th>4</th>\n",
       "      <td>60562</td>\n",
       "      <td>2016-01-01 03:40:00</td>\n",
       "      <td>CAMERA</td>\n",
       "      <td>Accident</td>\n",
       "      <td>Multi Vehicle</td>\n",
       "      <td>Closed</td>\n",
       "      <td>18.8371319682</td>\n",
       "      <td>-34.087051</td>\n",
       "      <td>8LOVJZ3</td>\n",
       "    </tr>\n",
       "  </tbody>\n",
       "</table>\n",
       "</div>"
      ],
      "text/plain": [
       "   EventId Occurrence Local Date Time Reporting Agency               Cause  \\\n",
       "0    60558        2016-01-01 00:53:00              Cam  Stationary Vehicle   \n",
       "1    60559        2016-01-01 00:54:00           CAMERA            Accident   \n",
       "2    60560        2016-01-01 02:26:00  Law Enforcement            Accident   \n",
       "3    60561        2016-01-01 02:56:00           CAMERA  Stationary Vehicle   \n",
       "4    60562        2016-01-01 03:40:00           CAMERA            Accident   \n",
       "\n",
       "              Subcause  Status      longitude   latitude road_segment_id  \n",
       "0  Vehicle On Shoulder  Closed  18.5408955032 -33.888275         S0B3CGQ  \n",
       "1  With A Fixed Object  Closed  18.9307563219 -34.140857         RYJYAPI  \n",
       "2        Multi Vehicle  Closed  18.5533575029 -33.959154         U3KP57C  \n",
       "3  Vehicle On Shoulder  Closed  18.6775561589 -33.895258         RY0TRQ8  \n",
       "4        Multi Vehicle  Closed  18.8371319682 -34.087051         8LOVJZ3  "
      ]
     },
     "execution_count": 2,
     "metadata": {},
     "output_type": "execute_result"
    }
   ],
   "source": [
    "data_raw = pd.read_csv('../data/train.csv', \n",
    "                   parse_dates = ['Occurrence Local Date Time'])\n",
    "data_raw.head()"
   ]
  },
  {
   "cell_type": "markdown",
   "metadata": {},
   "source": [
    "Train on data from 2017"
   ]
  },
  {
   "cell_type": "code",
   "execution_count": 4,
   "metadata": {},
   "outputs": [],
   "source": [
    "my_train = data_raw[data_raw['Occurrence Local Date Time'] < '2018-01-01']\n",
    "my_train = my_train[my_train['Occurrence Local Date Time'] >= '2017-01-01']"
   ]
  },
  {
   "cell_type": "markdown",
   "metadata": {},
   "source": [
    "Test on data from last part of 2018"
   ]
  },
  {
   "cell_type": "code",
   "execution_count": 5,
   "metadata": {},
   "outputs": [],
   "source": [
    "my_test = data_raw[data_raw['Occurrence Local Date Time'] >= '2018-09-01']\n",
    "my_test = my_test[my_test['Occurrence Local Date Time'] < '2019-01-01']"
   ]
  },
  {
   "cell_type": "markdown",
   "metadata": {},
   "source": [
    "Create a dataframe of just the segment id's (to build the rest of the features on)"
   ]
  },
  {
   "cell_type": "code",
   "execution_count": 29,
   "metadata": {},
   "outputs": [
    {
     "data": {
      "text/plain": [
       "array(['S0B3CGQ', 'RYJYAPI', 'U3KP57C', 'RY0TRQ8', '8LOVJZ3'],\n",
       "      dtype=object)"
      ]
     },
     "execution_count": 29,
     "metadata": {},
     "output_type": "execute_result"
    }
   ],
   "source": [
    "segment_ids = data_raw['road_segment_id'].unique()\n",
    "segment_ids[:5]"
   ]
  },
  {
   "cell_type": "markdown",
   "metadata": {},
   "source": [
    "Create date time index object, only to create the dataframe"
   ]
  },
  {
   "cell_type": "code",
   "execution_count": 15,
   "metadata": {},
   "outputs": [],
   "source": [
    "date_times = pd.date_range('2017-01-01', '2018-01-01', freq='1h')"
   ]
  },
  {
   "cell_type": "markdown",
   "metadata": {},
   "source": [
    "Convert index object to dataframe with column name date_times."
   ]
  },
  {
   "cell_type": "code",
   "execution_count": 34,
   "metadata": {},
   "outputs": [
    {
     "data": {
      "text/plain": [
       "DatetimeIndex(['2017-01-01 00:00:00', '2017-01-01 01:00:00',\n",
       "               '2017-01-01 02:00:00', '2017-01-01 03:00:00',\n",
       "               '2017-01-01 04:00:00', '2017-01-01 05:00:00',\n",
       "               '2017-01-01 06:00:00', '2017-01-01 07:00:00',\n",
       "               '2017-01-01 08:00:00', '2017-01-01 09:00:00',\n",
       "               ...\n",
       "               '2017-12-31 15:00:00', '2017-12-31 16:00:00',\n",
       "               '2017-12-31 17:00:00', '2017-12-31 18:00:00',\n",
       "               '2017-12-31 19:00:00', '2017-12-31 20:00:00',\n",
       "               '2017-12-31 21:00:00', '2017-12-31 22:00:00',\n",
       "               '2017-12-31 23:00:00', '2018-01-01 00:00:00'],\n",
       "              dtype='datetime64[ns]', length=8761, freq='H')"
      ]
     },
     "execution_count": 34,
     "metadata": {},
     "output_type": "execute_result"
    }
   ],
   "source": [
    "date_times"
   ]
  },
  {
   "cell_type": "code",
   "execution_count": 24,
   "metadata": {},
   "outputs": [],
   "source": [
    "date_times_df = pd.DataFrame({'date_times':date_times})"
   ]
  },
  {
   "cell_type": "markdown",
   "metadata": {},
   "source": [
    "For every segment id, add it to date_times_df (as a column of zeros), find all events that happened in that segment as another dataframe, round its date time to closest hour, assign a 1 at the appropriate datetime."
   ]
  },
  {
   "cell_type": "code",
   "execution_count": 40,
   "metadata": {},
   "outputs": [
    {
     "data": {
      "text/html": [
       "<div>\n",
       "<style scoped>\n",
       "    .dataframe tbody tr th:only-of-type {\n",
       "        vertical-align: middle;\n",
       "    }\n",
       "\n",
       "    .dataframe tbody tr th {\n",
       "        vertical-align: top;\n",
       "    }\n",
       "\n",
       "    .dataframe thead th {\n",
       "        text-align: right;\n",
       "    }\n",
       "</style>\n",
       "<table border=\"1\" class=\"dataframe\">\n",
       "  <thead>\n",
       "    <tr style=\"text-align: right;\">\n",
       "      <th></th>\n",
       "      <th>date_times</th>\n",
       "      <th>S0B3CGQ</th>\n",
       "      <th>RYJYAPI</th>\n",
       "      <th>U3KP57C</th>\n",
       "      <th>RY0TRQ8</th>\n",
       "      <th>8LOVJZ3</th>\n",
       "      <th>X4UA382</th>\n",
       "      <th>0QR8FDW</th>\n",
       "      <th>DZABHQW</th>\n",
       "      <th>EKZN1VM</th>\n",
       "      <th>...</th>\n",
       "      <th>YVR8GT6</th>\n",
       "      <th>ZAVM3PJ</th>\n",
       "      <th>DS4NLQE</th>\n",
       "      <th>HR19LL7</th>\n",
       "      <th>1451FOG</th>\n",
       "      <th>2ON8NSO</th>\n",
       "      <th>NFUEAN5</th>\n",
       "      <th>4T821GV</th>\n",
       "      <th>J6A19TW</th>\n",
       "      <th>43RCYZH</th>\n",
       "    </tr>\n",
       "  </thead>\n",
       "  <tbody>\n",
       "    <tr>\n",
       "      <td>0</td>\n",
       "      <td>2017-01-01 00:00:00</td>\n",
       "      <td>0</td>\n",
       "      <td>0</td>\n",
       "      <td>0</td>\n",
       "      <td>0</td>\n",
       "      <td>0</td>\n",
       "      <td>0</td>\n",
       "      <td>0</td>\n",
       "      <td>0</td>\n",
       "      <td>0</td>\n",
       "      <td>...</td>\n",
       "      <td>0</td>\n",
       "      <td>0</td>\n",
       "      <td>0</td>\n",
       "      <td>0</td>\n",
       "      <td>0</td>\n",
       "      <td>0</td>\n",
       "      <td>0</td>\n",
       "      <td>0</td>\n",
       "      <td>0</td>\n",
       "      <td>0</td>\n",
       "    </tr>\n",
       "    <tr>\n",
       "      <td>1</td>\n",
       "      <td>2017-01-01 01:00:00</td>\n",
       "      <td>0</td>\n",
       "      <td>0</td>\n",
       "      <td>0</td>\n",
       "      <td>0</td>\n",
       "      <td>0</td>\n",
       "      <td>0</td>\n",
       "      <td>0</td>\n",
       "      <td>0</td>\n",
       "      <td>0</td>\n",
       "      <td>...</td>\n",
       "      <td>0</td>\n",
       "      <td>0</td>\n",
       "      <td>0</td>\n",
       "      <td>0</td>\n",
       "      <td>0</td>\n",
       "      <td>0</td>\n",
       "      <td>0</td>\n",
       "      <td>0</td>\n",
       "      <td>0</td>\n",
       "      <td>0</td>\n",
       "    </tr>\n",
       "    <tr>\n",
       "      <td>2</td>\n",
       "      <td>2017-01-01 02:00:00</td>\n",
       "      <td>0</td>\n",
       "      <td>0</td>\n",
       "      <td>0</td>\n",
       "      <td>0</td>\n",
       "      <td>0</td>\n",
       "      <td>0</td>\n",
       "      <td>0</td>\n",
       "      <td>0</td>\n",
       "      <td>0</td>\n",
       "      <td>...</td>\n",
       "      <td>0</td>\n",
       "      <td>0</td>\n",
       "      <td>0</td>\n",
       "      <td>0</td>\n",
       "      <td>0</td>\n",
       "      <td>0</td>\n",
       "      <td>0</td>\n",
       "      <td>0</td>\n",
       "      <td>0</td>\n",
       "      <td>0</td>\n",
       "    </tr>\n",
       "    <tr>\n",
       "      <td>3</td>\n",
       "      <td>2017-01-01 03:00:00</td>\n",
       "      <td>0</td>\n",
       "      <td>0</td>\n",
       "      <td>0</td>\n",
       "      <td>0</td>\n",
       "      <td>0</td>\n",
       "      <td>0</td>\n",
       "      <td>0</td>\n",
       "      <td>0</td>\n",
       "      <td>0</td>\n",
       "      <td>...</td>\n",
       "      <td>0</td>\n",
       "      <td>0</td>\n",
       "      <td>0</td>\n",
       "      <td>0</td>\n",
       "      <td>0</td>\n",
       "      <td>0</td>\n",
       "      <td>0</td>\n",
       "      <td>0</td>\n",
       "      <td>0</td>\n",
       "      <td>0</td>\n",
       "    </tr>\n",
       "    <tr>\n",
       "      <td>4</td>\n",
       "      <td>2017-01-01 04:00:00</td>\n",
       "      <td>0</td>\n",
       "      <td>0</td>\n",
       "      <td>0</td>\n",
       "      <td>0</td>\n",
       "      <td>0</td>\n",
       "      <td>0</td>\n",
       "      <td>0</td>\n",
       "      <td>0</td>\n",
       "      <td>0</td>\n",
       "      <td>...</td>\n",
       "      <td>0</td>\n",
       "      <td>0</td>\n",
       "      <td>0</td>\n",
       "      <td>0</td>\n",
       "      <td>0</td>\n",
       "      <td>0</td>\n",
       "      <td>0</td>\n",
       "      <td>0</td>\n",
       "      <td>0</td>\n",
       "      <td>0</td>\n",
       "    </tr>\n",
       "  </tbody>\n",
       "</table>\n",
       "<p>5 rows × 550 columns</p>\n",
       "</div>"
      ],
      "text/plain": [
       "           date_times  S0B3CGQ  RYJYAPI  U3KP57C  RY0TRQ8  8LOVJZ3  X4UA382  \\\n",
       "0 2017-01-01 00:00:00        0        0        0        0        0        0   \n",
       "1 2017-01-01 01:00:00        0        0        0        0        0        0   \n",
       "2 2017-01-01 02:00:00        0        0        0        0        0        0   \n",
       "3 2017-01-01 03:00:00        0        0        0        0        0        0   \n",
       "4 2017-01-01 04:00:00        0        0        0        0        0        0   \n",
       "\n",
       "   0QR8FDW  DZABHQW  EKZN1VM  ...  YVR8GT6  ZAVM3PJ  DS4NLQE  HR19LL7  \\\n",
       "0        0        0        0  ...        0        0        0        0   \n",
       "1        0        0        0  ...        0        0        0        0   \n",
       "2        0        0        0  ...        0        0        0        0   \n",
       "3        0        0        0  ...        0        0        0        0   \n",
       "4        0        0        0  ...        0        0        0        0   \n",
       "\n",
       "   1451FOG  2ON8NSO  NFUEAN5  4T821GV  J6A19TW  43RCYZH  \n",
       "0        0        0        0        0        0        0  \n",
       "1        0        0        0        0        0        0  \n",
       "2        0        0        0        0        0        0  \n",
       "3        0        0        0        0        0        0  \n",
       "4        0        0        0        0        0        0  \n",
       "\n",
       "[5 rows x 550 columns]"
      ]
     },
     "execution_count": 40,
     "metadata": {},
     "output_type": "execute_result"
    }
   ],
   "source": [
    "for segment_id in segment_ids:\n",
    "    date_times_df[str(segment_id)] = 0\n",
    "    events = my_train[my_train['road_segment_id']==segment_id]\n",
    "    dts = events['Occurrence Local Date Time'].dt.round('H')\n",
    "    dates = dts.astype(str).unique()\n",
    "    date_times_df.loc[date_times_df['date_times'].isin(dates),segment_id] = 1\n",
    "\n",
    "date_times_df.head(5)   "
   ]
  },
  {
   "cell_type": "code",
   "execution_count": 45,
   "metadata": {},
   "outputs": [],
   "source": [
    "col_list = list(date_times_df.columns)"
   ]
  },
  {
   "cell_type": "code",
   "execution_count": 59,
   "metadata": {},
   "outputs": [
    {
     "data": {
      "text/plain": [
       "8LOVJZ3    240\n",
       "03RHJ3G    155\n",
       "Q03FQ74    149\n",
       "927BHUF    124\n",
       "T182CUC    124\n",
       "7QBQK9L    158\n",
       "MJ9YER2    101\n",
       "DRNRL0M    222\n",
       "W70WUF7    320\n",
       "M3INBBC    170\n",
       "93GA3XB    226\n",
       "Q0VL8BD    224\n",
       "WG6X4Y0    213\n",
       "MX8CVMX    115\n",
       "7AKUBY4    178\n",
       "UY59I9M    233\n",
       "0QQIE2L    107\n",
       "GDVJYQW    234\n",
       "FSOOCGH    144\n",
       "SE831U7    248\n",
       "JW0WKQ9    147\n",
       "J0SM52K    163\n",
       "AEDN7D7    140\n",
       "PLZ8PGL    172\n",
       "GFX7S4B    118\n",
       "6LJRHZ3    186\n",
       "4K0TGLP    176\n",
       "74CTTH5    163\n",
       "1Q44FGG    161\n",
       "WL17NEO    486\n",
       "1G21L7Q    108\n",
       "dtype: int64"
      ]
     },
     "execution_count": 59,
     "metadata": {},
     "output_type": "execute_result"
    }
   ],
   "source": [
    "y = date_times_df[col_list].sum()\n",
    "y[y>100]"
   ]
  },
  {
   "cell_type": "code",
   "execution_count": 49,
   "metadata": {},
   "outputs": [],
   "source": [
    "import matplotlib.pyplot as plt"
   ]
  },
  {
   "cell_type": "code",
   "execution_count": 62,
   "metadata": {},
   "outputs": [
    {
     "data": {
      "text/plain": [
       "[<matplotlib.lines.Line2D at 0x1df95830a48>]"
      ]
     },
     "execution_count": 62,
     "metadata": {},
     "output_type": "execute_result"
    },
    {
     "data": {
      "image/png": "[encoded data removed]",
      "text/plain": [
       "<Figure size 432x288 with 1 Axes>"
      ]
     },
     "metadata": {
      "needs_background": "light"
     },
     "output_type": "display_data"
    }
   ],
   "source": [
    "plt.plot(list(y))"
   ]
  },
  {
   "cell_type": "code",
   "execution_count": null,
   "metadata": {},
   "outputs": [],
   "source": [
    "x = range()"
   ]
  }
 ],
 "metadata": {
  "kernelspec": {
   "display_name": "Python 3",
   "language": "python",
   "name": "python3"
  },
  "language_info": {
   "codemirror_mode": {
    "name": "ipython",
    "version": 3
   },
   "file_extension": ".py",
   "mimetype": "text/x-python",
   "name": "python",
   "nbconvert_exporter": "python",
   "pygments_lexer": "ipython3",
   "version": "3.7.3"
  }
 },
 "nbformat": 4,
 "nbformat_minor": 2
}
